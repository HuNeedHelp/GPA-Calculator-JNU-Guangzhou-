{
 "cells": [
  {
   "cell_type": "code",
   "execution_count": null,
   "metadata": {},
   "outputs": [],
   "source": [
    "import pandas as pd\n",
    "import numpy as np\n",
    "data = pd.read_excel(r\"C:\\Users\\Hu\\iCloudDrive\\个人资料\\个人规划\\成绩单.xlsx\")\n",
    "data.head()"
   ]
  },
  {
   "cell_type": "code",
   "execution_count": 9,
   "metadata": {},
   "outputs": [],
   "source": [
    "def GPA(data, adjust = None, adjust_grade = None, delete = None, add_xuefen = None, add_grade = None):\n",
    "    xuefen = data['学分'].to_numpy()\n",
    "    jidian = ((data['总成绩']-50)/10).to_numpy()\n",
    "    if delete:\n",
    "        index = data[data['课程名'] == delete].index.tolist()\n",
    "        xuefen = np.delete(xuefen, index)\n",
    "        jidian = np.delete(jidian, index)\n",
    "        #return np.dot(xuefen, jidian)/sum(xuefen)\n",
    "    if adjust:\n",
    "        index = data[data['课程名'] == adjust].index.tolist()\n",
    "        jidian[index] = (adjust_grade-50)/10\n",
    "        #return np.dot(xuefen, jidian)/sum(xuefen)\n",
    "    if add_xuefen:\n",
    "        xuefen = np.append(xuefen, add_xuefen)\n",
    "        jidian = np.append(jidian, (add_grade-50)/10)\n",
    "    return np.dot(xuefen, jidian)/sum(xuefen)\n",
    "    \n"
   ]
  },
  {
   "cell_type": "code",
   "execution_count": null,
   "metadata": {},
   "outputs": [],
   "source": [
    "print(GPA(data, delete='大学计算机基础'))\n",
    "print(GPA(data, adjust='大学计算机基础', adjust_grade=85))\n",
    "print(GPA(data, add_xuefen=3, add_grade=95))\n",
    "print(GPA(data))"
   ]
  }
 ],
 "metadata": {
  "kernelspec": {
   "display_name": "Python 3",
   "language": "python",
   "name": "python3"
  },
  "language_info": {
   "codemirror_mode": {
    "name": "ipython",
    "version": 3
   },
   "file_extension": ".py",
   "mimetype": "text/x-python",
   "name": "python",
   "nbconvert_exporter": "python",
   "pygments_lexer": "ipython3",
   "version": "3.11.8"
  }
 },
 "nbformat": 4,
 "nbformat_minor": 2
}
